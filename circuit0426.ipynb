{
  "nbformat": 4,
  "nbformat_minor": 0,
  "metadata": {
    "colab": {
      "name": "circuit0420.ipynb",
      "private_outputs": true,
      "provenance": [],
      "include_colab_link": true
    },
    "kernelspec": {
      "name": "python3",
      "display_name": "Python 3"
    },
    "language_info": {
      "name": "python"
    }
  },
  "cells": [
    {
      "cell_type": "markdown",
      "metadata": {
        "id": "view-in-github",
        "colab_type": "text"
      },
      "source": [
        "<a href=\"https://colab.research.google.com/github/lsjin-hub/circuit2021/blob/main/circuit0426.ipynb\" target=\"_parent\"><img src=\"https://colab.research.google.com/assets/colab-badge.svg\" alt=\"Open In Colab\"/></a>"
      ]
    },
    {
      "cell_type": "code",
      "metadata": {
        "id": "IpsOoCxxdTU1"
      },
      "source": [
        "import numpy as np \n",
        "R1=1000; R2=2000; R3=2000;"
      ],
      "execution_count": null,
      "outputs": []
    },
    {
      "cell_type": "code",
      "metadata": {
        "id": "vVeNjhjKdcoR"
      },
      "source": [
        "R1,R2,R3"
      ],
      "execution_count": null,
      "outputs": []
    },
    {
      "cell_type": "code",
      "metadata": {
        "id": "4Ne49ET_dhlL"
      },
      "source": [
        "R4=4000\n",
        "alpha=2"
      ],
      "execution_count": null,
      "outputs": []
    },
    {
      "cell_type": "code",
      "metadata": {
        "id": "NTC8awF7dyeB"
      },
      "source": [
        "G=np.array([[1/R1+1/R2, -1/R1,  0],[-1/R1,  1/R1+alpha+1/R2, -(alpha+1/R2)],[0,  -(1/R2),  (1/R2+1/R4)]])"
      ],
      "execution_count": null,
      "outputs": []
    },
    {
      "cell_type": "code",
      "metadata": {
        "id": "y00pnAw3ey9X"
      },
      "source": [
        "G"
      ],
      "execution_count": null,
      "outputs": []
    },
    {
      "cell_type": "code",
      "metadata": {
        "id": "xIUGwi0gm3Fd"
      },
      "source": [
        "F=np.linalg.inv(G)"
      ],
      "execution_count": null,
      "outputs": []
    },
    {
      "cell_type": "code",
      "metadata": {
        "id": "LZWOlKe6nCQd"
      },
      "source": [
        "F"
      ],
      "execution_count": null,
      "outputs": []
    },
    {
      "cell_type": "code",
      "metadata": {
        "id": "YqjARmc_qMwU"
      },
      "source": [
        "GG=np.matmul(G,F)\n",
        "GG"
      ],
      "execution_count": null,
      "outputs": []
    },
    {
      "cell_type": "code",
      "metadata": {
        "id": "1kxCYUjinQB5"
      },
      "source": [
        "I=np.array([[0.002], [-0.002], [0.004]])"
      ],
      "execution_count": null,
      "outputs": []
    },
    {
      "cell_type": "code",
      "metadata": {
        "id": "Vj7PuEAWnsua"
      },
      "source": [
        "V=np.matmul(F,I)"
      ],
      "execution_count": null,
      "outputs": []
    },
    {
      "cell_type": "code",
      "metadata": {
        "id": "Gecxj2pIoFCF"
      },
      "source": [
        "V"
      ],
      "execution_count": null,
      "outputs": []
    },
    {
      "cell_type": "code",
      "metadata": {
        "id": "Vg8Sv-bioGKT"
      },
      "source": [
        "IM=np.matmul(G,V)-I\n",
        "IM\n"
      ],
      "execution_count": null,
      "outputs": []
    },
    {
      "cell_type": "code",
      "metadata": {
        "id": "NBXd6NXqrGA8"
      },
      "source": [
        ""
      ],
      "execution_count": null,
      "outputs": []
    }
  ]
}